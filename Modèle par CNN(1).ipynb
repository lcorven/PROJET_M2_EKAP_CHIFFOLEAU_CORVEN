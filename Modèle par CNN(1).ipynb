{
 "cells": [
  {
   "cell_type": "markdown",
   "id": "bb0ad23a",
   "metadata": {},
   "source": [
    "# Script Modèle par CNN CORVEN CHIFFOLEAU "
   ]
  },
  {
   "cell_type": "code",
   "execution_count": 1,
   "id": "d56e4393",
   "metadata": {},
   "outputs": [
    {
     "name": "stdout",
     "output_type": "stream",
     "text": [
      "Requirement already satisfied: timm in c:\\users\\loicc\\anaconda3\\lib\\site-packages (0.4.12)\n",
      "Requirement already satisfied: torch>=1.4 in c:\\users\\loicc\\appdata\\roaming\\python\\python38\\site-packages (from timm) (1.10.0)\n",
      "Requirement already satisfied: torchvision in c:\\users\\loicc\\appdata\\roaming\\python\\python38\\site-packages (from timm) (0.11.1)\n",
      "Requirement already satisfied: typing-extensions in c:\\users\\loicc\\anaconda3\\lib\\site-packages (from torch>=1.4->timm) (3.7.4.3)\n",
      "Requirement already satisfied: numpy in c:\\users\\loicc\\anaconda3\\lib\\site-packages (from torchvision->timm) (1.20.1)\n",
      "Requirement already satisfied: pillow!=8.3.0,>=5.3.0 in c:\\users\\loicc\\anaconda3\\lib\\site-packages (from torchvision->timm) (8.2.0)\n",
      "Requirement already satisfied: wandb in c:\\users\\loicc\\anaconda3\\lib\\site-packages (0.12.7)\n",
      "Requirement already satisfied: six>=1.13.0 in c:\\users\\loicc\\anaconda3\\lib\\site-packages (from wandb) (1.15.0)\n",
      "Requirement already satisfied: promise<3,>=2.0 in c:\\users\\loicc\\anaconda3\\lib\\site-packages (from wandb) (2.3)\n",
      "Requirement already satisfied: shortuuid>=0.5.0 in c:\\users\\loicc\\anaconda3\\lib\\site-packages (from wandb) (1.0.8)\n",
      "Requirement already satisfied: docker-pycreds>=0.4.0 in c:\\users\\loicc\\anaconda3\\lib\\site-packages (from wandb) (0.4.0)\n",
      "Requirement already satisfied: python-dateutil>=2.6.1 in c:\\users\\loicc\\anaconda3\\lib\\site-packages (from wandb) (2.8.1)\n",
      "Requirement already satisfied: GitPython>=1.0.0 in c:\\users\\loicc\\anaconda3\\lib\\site-packages (from wandb) (3.1.24)\n",
      "Requirement already satisfied: protobuf>=3.12.0 in c:\\users\\loicc\\anaconda3\\lib\\site-packages (from wandb) (3.19.1)\n",
      "Requirement already satisfied: sentry-sdk>=1.0.0 in c:\\users\\loicc\\anaconda3\\lib\\site-packages (from wandb) (1.5.0)\n",
      "Requirement already satisfied: configparser>=3.8.1 in c:\\users\\loicc\\anaconda3\\lib\\site-packages (from wandb) (5.1.0)\n",
      "Requirement already satisfied: yaspin>=1.0.0 in c:\\users\\loicc\\anaconda3\\lib\\site-packages (from wandb) (2.1.0)\n",
      "Requirement already satisfied: subprocess32>=3.5.3 in c:\\users\\loicc\\anaconda3\\lib\\site-packages (from wandb) (3.5.4)\n",
      "Requirement already satisfied: psutil>=5.0.0 in c:\\users\\loicc\\anaconda3\\lib\\site-packages (from wandb) (5.8.0)\n",
      "Requirement already satisfied: requests<3,>=2.0.0 in c:\\users\\loicc\\anaconda3\\lib\\site-packages (from wandb) (2.25.1)\n",
      "Requirement already satisfied: PyYAML in c:\\users\\loicc\\anaconda3\\lib\\site-packages (from wandb) (5.4.1)\n",
      "Requirement already satisfied: pathtools in c:\\users\\loicc\\anaconda3\\lib\\site-packages (from wandb) (0.1.2)\n",
      "Requirement already satisfied: Click!=8.0.0,>=7.0 in c:\\users\\loicc\\anaconda3\\lib\\site-packages (from wandb) (7.1.2)\n",
      "Requirement already satisfied: typing-extensions>=3.7.4.3 in c:\\users\\loicc\\anaconda3\\lib\\site-packages (from GitPython>=1.0.0->wandb) (3.7.4.3)\n",
      "Requirement already satisfied: gitdb<5,>=4.0.1 in c:\\users\\loicc\\anaconda3\\lib\\site-packages (from GitPython>=1.0.0->wandb) (4.0.9)\n",
      "Requirement already satisfied: certifi>=2017.4.17 in c:\\users\\loicc\\anaconda3\\lib\\site-packages (from requests<3,>=2.0.0->wandb) (2020.12.5)\n",
      "Requirement already satisfied: urllib3<1.27,>=1.21.1 in c:\\users\\loicc\\anaconda3\\lib\\site-packages (from requests<3,>=2.0.0->wandb) (1.26.4)\n",
      "Requirement already satisfied: chardet<5,>=3.0.2 in c:\\users\\loicc\\anaconda3\\lib\\site-packages (from requests<3,>=2.0.0->wandb) (4.0.0)\n",
      "Requirement already satisfied: idna<3,>=2.5 in c:\\users\\loicc\\anaconda3\\lib\\site-packages (from requests<3,>=2.0.0->wandb) (2.10)\n",
      "Requirement already satisfied: termcolor<2.0.0,>=1.1.0 in c:\\users\\loicc\\anaconda3\\lib\\site-packages (from yaspin>=1.0.0->wandb) (1.1.0)\n",
      "Requirement already satisfied: smmap<6,>=3.0.1 in c:\\users\\loicc\\anaconda3\\lib\\site-packages (from gitdb<5,>=4.0.1->GitPython>=1.0.0->wandb) (5.0.0)\n",
      "Requirement already satisfied: transformers in c:\\users\\loicc\\anaconda3\\lib\\site-packages (4.12.5)\n",
      "Requirement already satisfied: regex!=2019.12.17 in c:\\users\\loicc\\anaconda3\\lib\\site-packages (from transformers) (2021.4.4)\n",
      "Requirement already satisfied: huggingface-hub<1.0,>=0.1.0 in c:\\users\\loicc\\anaconda3\\lib\\site-packages (from transformers) (0.1.2)\n",
      "Requirement already satisfied: packaging>=20.0 in c:\\users\\loicc\\anaconda3\\lib\\site-packages (from transformers) (20.9)\n",
      "Requirement already satisfied: filelock in c:\\users\\loicc\\anaconda3\\lib\\site-packages (from transformers) (3.0.12)\n",
      "Requirement already satisfied: requests in c:\\users\\loicc\\anaconda3\\lib\\site-packages (from transformers) (2.25.1)\n",
      "Requirement already satisfied: tokenizers<0.11,>=0.10.1 in c:\\users\\loicc\\anaconda3\\lib\\site-packages (from transformers) (0.10.3)\n",
      "Requirement already satisfied: sacremoses in c:\\users\\loicc\\anaconda3\\lib\\site-packages (from transformers) (0.0.46)\n",
      "Requirement already satisfied: numpy>=1.17 in c:\\users\\loicc\\anaconda3\\lib\\site-packages (from transformers) (1.20.1)\n",
      "Requirement already satisfied: tqdm>=4.27 in c:\\users\\loicc\\anaconda3\\lib\\site-packages (from transformers) (4.59.0)\n",
      "Requirement already satisfied: pyyaml>=5.1 in c:\\users\\loicc\\anaconda3\\lib\\site-packages (from transformers) (5.4.1)\n",
      "Requirement already satisfied: typing-extensions>=3.7.4.3 in c:\\users\\loicc\\anaconda3\\lib\\site-packages (from huggingface-hub<1.0,>=0.1.0->transformers) (3.7.4.3)\n",
      "Requirement already satisfied: pyparsing>=2.0.2 in c:\\users\\loicc\\anaconda3\\lib\\site-packages (from packaging>=20.0->transformers) (2.4.7)\n",
      "Requirement already satisfied: chardet<5,>=3.0.2 in c:\\users\\loicc\\anaconda3\\lib\\site-packages (from requests->transformers) (4.0.0)\n",
      "Requirement already satisfied: certifi>=2017.4.17 in c:\\users\\loicc\\anaconda3\\lib\\site-packages (from requests->transformers) (2020.12.5)\n",
      "Requirement already satisfied: idna<3,>=2.5 in c:\\users\\loicc\\anaconda3\\lib\\site-packages (from requests->transformers) (2.10)\n",
      "Requirement already satisfied: urllib3<1.27,>=1.21.1 in c:\\users\\loicc\\anaconda3\\lib\\site-packages (from requests->transformers) (1.26.4)\n",
      "Requirement already satisfied: joblib in c:\\users\\loicc\\anaconda3\\lib\\site-packages (from sacremoses->transformers) (1.0.1)\n",
      "Requirement already satisfied: six in c:\\users\\loicc\\anaconda3\\lib\\site-packages (from sacremoses->transformers) (1.15.0)\n",
      "Requirement already satisfied: click in c:\\users\\loicc\\anaconda3\\lib\\site-packages (from sacremoses->transformers) (7.1.2)\n",
      "Requirement already satisfied: albumentations in c:\\users\\loicc\\appdata\\roaming\\python\\python38\\site-packages (1.1.0)\n",
      "Requirement already satisfied: PyYAML in c:\\users\\loicc\\anaconda3\\lib\\site-packages (from albumentations) (5.4.1)\n",
      "Requirement already satisfied: scipy in c:\\users\\loicc\\anaconda3\\lib\\site-packages (from albumentations) (1.6.2)\n",
      "Requirement already satisfied: numpy>=1.11.1 in c:\\users\\loicc\\anaconda3\\lib\\site-packages (from albumentations) (1.20.1)\n",
      "Requirement already satisfied: scikit-image>=0.16.1 in c:\\users\\loicc\\anaconda3\\lib\\site-packages (from albumentations) (0.18.1)\n",
      "Requirement already satisfied: qudida>=0.0.4 in c:\\users\\loicc\\appdata\\roaming\\python\\python38\\site-packages (from albumentations) (0.0.4)\n",
      "Requirement already satisfied: opencv-python-headless>=4.1.1 in c:\\users\\loicc\\appdata\\roaming\\python\\python38\\site-packages (from albumentations) (4.5.4.58)\n",
      "Requirement already satisfied: scikit-learn>=0.19.1 in c:\\users\\loicc\\anaconda3\\lib\\site-packages (from qudida>=0.0.4->albumentations) (0.24.1)\n",
      "Requirement already satisfied: typing-extensions in c:\\users\\loicc\\anaconda3\\lib\\site-packages (from qudida>=0.0.4->albumentations) (3.7.4.3)\n",
      "Requirement already satisfied: matplotlib!=3.0.0,>=2.0.0 in c:\\users\\loicc\\anaconda3\\lib\\site-packages (from scikit-image>=0.16.1->albumentations) (3.3.4)\n",
      "Requirement already satisfied: networkx>=2.0 in c:\\users\\loicc\\anaconda3\\lib\\site-packages (from scikit-image>=0.16.1->albumentations) (2.5)\n",
      "Requirement already satisfied: pillow!=7.1.0,!=7.1.1,>=4.3.0 in c:\\users\\loicc\\anaconda3\\lib\\site-packages (from scikit-image>=0.16.1->albumentations) (8.2.0)\n",
      "Requirement already satisfied: imageio>=2.3.0 in c:\\users\\loicc\\anaconda3\\lib\\site-packages (from scikit-image>=0.16.1->albumentations) (2.9.0)\n",
      "Requirement already satisfied: tifffile>=2019.7.26 in c:\\users\\loicc\\anaconda3\\lib\\site-packages (from scikit-image>=0.16.1->albumentations) (2021.4.8)\n",
      "Requirement already satisfied: PyWavelets>=1.1.1 in c:\\users\\loicc\\anaconda3\\lib\\site-packages (from scikit-image>=0.16.1->albumentations) (1.1.1)\n",
      "Requirement already satisfied: cycler>=0.10 in c:\\users\\loicc\\anaconda3\\lib\\site-packages (from matplotlib!=3.0.0,>=2.0.0->scikit-image>=0.16.1->albumentations) (0.10.0)\n",
      "Requirement already satisfied: python-dateutil>=2.1 in c:\\users\\loicc\\anaconda3\\lib\\site-packages (from matplotlib!=3.0.0,>=2.0.0->scikit-image>=0.16.1->albumentations) (2.8.1)\n",
      "Requirement already satisfied: pyparsing!=2.0.4,!=2.1.2,!=2.1.6,>=2.0.3 in c:\\users\\loicc\\anaconda3\\lib\\site-packages (from matplotlib!=3.0.0,>=2.0.0->scikit-image>=0.16.1->albumentations) (2.4.7)\n",
      "Requirement already satisfied: kiwisolver>=1.0.1 in c:\\users\\loicc\\anaconda3\\lib\\site-packages (from matplotlib!=3.0.0,>=2.0.0->scikit-image>=0.16.1->albumentations) (1.3.1)\n",
      "Requirement already satisfied: decorator>=4.3.0 in c:\\users\\loicc\\anaconda3\\lib\\site-packages (from networkx>=2.0->scikit-image>=0.16.1->albumentations) (5.0.6)\n",
      "Requirement already satisfied: joblib>=0.11 in c:\\users\\loicc\\anaconda3\\lib\\site-packages (from scikit-learn>=0.19.1->qudida>=0.0.4->albumentations) (1.0.1)\n",
      "Requirement already satisfied: threadpoolctl>=2.0.0 in c:\\users\\loicc\\anaconda3\\lib\\site-packages (from scikit-learn>=0.19.1->qudida>=0.0.4->albumentations) (2.1.0)\n",
      "Requirement already satisfied: six in c:\\users\\loicc\\anaconda3\\lib\\site-packages (from cycler>=0.10->matplotlib!=3.0.0,>=2.0.0->scikit-image>=0.16.1->albumentations) (1.15.0)\n"
     ]
    }
   ],
   "source": [
    "#inportation des packages et librairies nécessaire à la realisation du projet. \n",
    "! pip install timm\n",
    "! pip install --upgrade wandb\n",
    "! pip install transformers\n",
    "! pip install --user albumentations"
   ]
  },
  {
   "cell_type": "code",
   "execution_count": 5,
   "id": "1afc2893",
   "metadata": {},
   "outputs": [],
   "source": [
    "#Appel des packages et librairies necessaire à la realisation du projet\n",
    "import os\n",
    "import gc\n",
    "import cv2\n",
    "import copy\n",
    "import time\n",
    "import random\n",
    "from PIL import Image\n",
    "from PIL import ImageFile\n",
    "ImageFile.LOAD_TRUNCATED_IMAGES = True"
   ]
  },
  {
   "cell_type": "code",
   "execution_count": 6,
   "id": "7829c26c",
   "metadata": {},
   "outputs": [],
   "source": [
    "import base64\n",
    "import pickle"
   ]
  },
  {
   "cell_type": "code",
   "execution_count": 7,
   "id": "f8598c87",
   "metadata": {},
   "outputs": [],
   "source": [
    "#librairie qui vont servire à  télécherger les images\n",
    "from io import BytesIO\n"
   ]
  },
  {
   "cell_type": "code",
   "execution_count": 8,
   "id": "bfa69866",
   "metadata": {},
   "outputs": [],
   "source": [
    "# Libraries qui vont permettre de manipuler les images\n",
    "import numpy as np\n",
    "import pandas as pd"
   ]
  },
  {
   "cell_type": "code",
   "execution_count": 9,
   "id": "b4642027",
   "metadata": {},
   "outputs": [],
   "source": [
    "# Libraries Pytorch\n",
    "import torch\n",
    "import torch.nn as nn\n",
    "import torch.optim as optim\n",
    "from torch.optim import lr_scheduler\n",
    "from torch.utils.data import Dataset, DataLoader\n",
    "from torch.cuda import amp"
   ]
  },
  {
   "cell_type": "code",
   "execution_count": 10,
   "id": "bf3dfe7d",
   "metadata": {},
   "outputs": [],
   "source": [
    "import joblib\n",
    "from tqdm import tqdm\n",
    "from collections import defaultdict"
   ]
  },
  {
   "cell_type": "code",
   "execution_count": 11,
   "id": "7b3c3794",
   "metadata": {},
   "outputs": [],
   "source": [
    "from sklearn.metrics import mean_squared_error\n",
    "from sklearn.model_selection import StratifiedKFold, KFold"
   ]
  },
  {
   "cell_type": "code",
   "execution_count": 12,
   "id": "f51f3f24",
   "metadata": {},
   "outputs": [],
   "source": [
    "import timm"
   ]
  },
  {
   "cell_type": "code",
   "execution_count": 13,
   "id": "22003fe8",
   "metadata": {},
   "outputs": [],
   "source": [
    "# Permet de transdormé les models\n",
    "import transformers\n",
    "from transformers import AutoTokenizer, AutoModel"
   ]
  },
  {
   "cell_type": "code",
   "execution_count": 14,
   "id": "b9ebd88a",
   "metadata": {},
   "outputs": [],
   "source": [
    "import albumentations as A\n",
    "from albumentations.pytorch import ToTensorV2"
   ]
  },
  {
   "cell_type": "code",
   "execution_count": 15,
   "id": "501b0c12",
   "metadata": {},
   "outputs": [],
   "source": [
    "# package de misen en forme texteuelle \n",
    "from colorama import Fore, Back, Style\n",
    "b_ = Fore.BLUE\n",
    "sr_ = Style.RESET_ALL\n",
    "\n",
    "import warnings\n",
    "warnings.filterwarnings(\"ignore\")\n",
    "\n",
    "# Permet de decrire les message d'erreur. \n",
    "os.environ['CUDA_LAUNCH_BLOCKING'] = \"1\""
   ]
  },
  {
   "cell_type": "code",
   "execution_count": 16,
   "id": "316f71bc",
   "metadata": {},
   "outputs": [],
   "source": [
    "import wandb"
   ]
  },
  {
   "cell_type": "code",
   "execution_count": 17,
   "id": "7982b013",
   "metadata": {},
   "outputs": [],
   "source": [
    "try:\n",
    "    from kaggle_secrets import UserSecretsClient\n",
    "    user_secrets = UserSecretsClient()\n",
    "     #utilisation d'une API \n",
    "    api_key = user_secrets.get_secret(\"wandb_api\")\n",
    "    wandb.login(key=api_key)\n",
    "    anony = None\n",
    "except:\n",
    "    anony = \"must\"\n"
   ]
  },
  {
   "cell_type": "code",
   "execution_count": 19,
   "id": "82465ef1",
   "metadata": {},
   "outputs": [],
   "source": [
    "#Training Configuration"
   ]
  },
  {
   "cell_type": "code",
   "execution_count": 18,
   "id": "b1ff6aea",
   "metadata": {},
   "outputs": [],
   "source": [
    "#Configuration du modèle considéré comme le plus pertinent. \n",
    "CONFIG = {\"seed\": 2021,\n",
    "          \"epochs\": 3,\n",
    "          \"img_size\": 256,\n",
    "          \"image_model_name\": \"tf_efficientnet_b0\",\n",
    "          \"text_model_name\": \"xlm-roberta-base\",\n",
    "          \"embedding_size\": 256,\n",
    "          \"train_batch_size\": 10,\n",
    "          \"valid_batch_size\": 10,\n",
    "          \"learning_rate\": 0.10,\n",
    "          \"scheduler\": 'CosineAnnealingLR',\n",
    "          \"min_lr\": 0.50,\n",
    "          \"T_max\": 50,\n",
    "          \"weight_decay\": 0.10,\n",
    "          \"max_length\": 32,\n",
    "          \"n_accumulate\": 1,\n",
    "          \"device\": torch.device(\"cuda:0\" if torch.cuda.is_available() else \"cpu\")\n",
    "          }\n",
    "\n",
    "CONFIG[\"tokenizer\"] = AutoTokenizer.from_pretrained(CONFIG['text_model_name'])"
   ]
  },
  {
   "cell_type": "code",
   "execution_count": 21,
   "id": "92e72e2f",
   "metadata": {},
   "outputs": [
    {
     "data": {
      "text/plain": [
       "{'seed': 2021,\n",
       " 'epochs': 3,\n",
       " 'img_size': 256,\n",
       " 'image_model_name': 'tf_efficientnet_b0',\n",
       " 'text_model_name': 'xlm-roberta-base',\n",
       " 'embedding_size': 256,\n",
       " 'train_batch_size': 10,\n",
       " 'valid_batch_size': 10,\n",
       " 'learning_rate': 0.1,\n",
       " 'scheduler': 'CosineAnnealingLR',\n",
       " 'min_lr': 0.5,\n",
       " 'T_max': 50,\n",
       " 'weight_decay': 0.1,\n",
       " 'max_length': 32,\n",
       " 'n_accumulate': 1,\n",
       " 'device': device(type='cpu'),\n",
       " 'tokenizer': PreTrainedTokenizerFast(name_or_path='xlm-roberta-base', vocab_size=250002, model_max_len=512, is_fast=True, padding_side='right', special_tokens={'bos_token': '<s>', 'eos_token': '</s>', 'unk_token': '<unk>', 'sep_token': '</s>', 'pad_token': '<pad>', 'cls_token': '<s>', 'mask_token': AddedToken(\"<mask>\", rstrip=False, lstrip=True, single_word=False, normalized=False)})}"
      ]
     },
     "execution_count": 21,
     "metadata": {},
     "output_type": "execute_result"
    }
   ],
   "source": [
    "CONFIG"
   ]
  },
  {
   "cell_type": "code",
   "execution_count": 20,
   "id": "cb15a90b",
   "metadata": {},
   "outputs": [],
   "source": [
    "                                         # définition de la reproductibilité "
   ]
  },
  {
   "cell_type": "code",
   "execution_count": 19,
   "id": "2f0c3131",
   "metadata": {},
   "outputs": [],
   "source": [
    "#On définit ici un noyaux de base qui va eléminer le facteur aléatoire des\n",
    "# modèle afin que les resultat soient les mêmes à chaque fois que le script sera\n",
    "# utlisé. Anisi le modèle aura une meuilleur reproductibilité. Cepedant on pert un \n",
    "# peu en représentativité.\n",
    "def set_seed(seed=42):\n",
    "    np.random.seed(seed)\n",
    "    torch.manual_seed(seed)\n",
    "    torch.cuda.manual_seed(seed)\n",
    "# Définition des options torch, qui utilise cuDNN de NVIDIA \n",
    "# cuDNN va permettre de faire des reseaux de neuronnes profonds en optimisaznt les performance du CPU\n",
    "#Or cuDNN avec des convolutions CUDA peu etre sources de non-déterminisme sur plusieur exécution.\n",
    "#Quand une convolution cuDNN est applelé avec un nouvelle esenmble de paramétre de taille,\n",
    "# une fonctinnlaité peut venir exécuter plusieur algorothme de convolution en les comparant pour trouver les plus perfromants. \n",
    "#En raison du bruit de l'analyse comparative, mais également du matériel utilisé, \n",
    "# l'analyse comparative peut selectoinné des modèle différent. Ainsi ici La désactivation de la fonction d'analyse comparative a\n",
    "# amène cuDNN à sélectionner de manière déterministe un algorithme, mais au prix de performances réduites. fonction : torch.backends.cudnn.benchmark = False\n",
    "#\n",
    "    torch.backends.cudnn.deterministic = True\n",
    "    torch.backends.cudnn.benchmark = False\n",
    "    # Set a fixed value for the hash seed\n",
    "    os.environ['PYTHONHASHSEED'] = str(seed)\n",
    "    \n",
    "set_seed(CONFIG['seed'])"
   ]
  },
  {
   "cell_type": "code",
   "execution_count": 22,
   "id": "169c35a3",
   "metadata": {},
   "outputs": [],
   "source": [
    "                                           # imoprtation des données "
   ]
  },
  {
   "cell_type": "code",
   "execution_count": 20,
   "id": "fc415e6e",
   "metadata": {},
   "outputs": [],
   "source": [
    "import json"
   ]
  },
  {
   "cell_type": "code",
   "execution_count": 21,
   "id": "4d7c2fdb",
   "metadata": {},
   "outputs": [
    {
     "name": "stderr",
     "output_type": "stream",
     "text": [
      "wandb: Currently logged in as: anony-mouse-158971 (use `wandb login --relogin` to force relogin)\n"
     ]
    },
    {
     "data": {
      "text/html": [
       "\n",
       "                    Syncing run <strong><a href=\"https://wandb.ai/anony-mouse-158971/Wikipedia/runs/1umhvttk?apiKey=530a6b96a52d389faa7ce76e4b44825adc3e368d\" target=\"_blank\">fearless-dragon-38</a></strong> to <a href=\"https://wandb.ai/anony-mouse-158971/Wikipedia?apiKey=530a6b96a52d389faa7ce76e4b44825adc3e368d\" target=\"_blank\">Weights & Biases</a> (<a href=\"https://docs.wandb.com/integrations/jupyter.html\" target=\"_blank\">docs</a>).<br/>\n",
       "\n",
       "                "
      ],
      "text/plain": [
       "<IPython.core.display.HTML object>"
      ]
     },
     "metadata": {},
     "output_type": "display_data"
    },
    {
     "name": "stderr",
     "output_type": "stream",
     "text": [
      "wandb: Downloading large artifact Wiki-data:latest, 2168.54MB. 1 files... Done. 0:0:0\n"
     ]
    },
    {
     "data": {
      "text/html": [
       "<br/>Waiting for W&B process to finish, PID 872... <strong style=\"color:green\">(success).</strong>"
      ],
      "text/plain": [
       "<IPython.core.display.HTML object>"
      ]
     },
     "metadata": {},
     "output_type": "display_data"
    },
    {
     "data": {
      "application/vnd.jupyter.widget-view+json": {
       "model_id": "",
       "version_major": 2,
       "version_minor": 0
      },
      "text/plain": [
       "VBox(children=(Label(value=' 0.00MB of 0.00MB uploaded (0.00MB deduped)\\r'), FloatProgress(value=1.0, max=1.0)…"
      ]
     },
     "metadata": {},
     "output_type": "display_data"
    },
    {
     "data": {
      "text/html": [
       "<style>\n",
       "    table.wandb td:nth-child(1) { padding: 0 10px; text-align: right }\n",
       "    .wandb-row { display: flex; flex-direction: row; flex-wrap: wrap; width: 100% }\n",
       "    .wandb-col { display: flex; flex-direction: column; flex-basis: 100%; flex: 1; padding: 10px; }\n",
       "    </style>\n",
       "<div class=\"wandb-row\"><div class=\"wandb-col\">\n",
       "</div><div class=\"wandb-col\">\n",
       "</div></div>\n",
       "Synced 6 W&B file(s), 0 media file(s), 0 artifact file(s) and 0 other file(s)\n",
       "<br/>Synced <strong style=\"color:#cdcd00\">fearless-dragon-38</strong>: <a href=\"https://wandb.ai/anony-mouse-158971/Wikipedia/runs/1umhvttk?apiKey=530a6b96a52d389faa7ce76e4b44825adc3e368d\" target=\"_blank\">https://wandb.ai/anony-mouse-158971/Wikipedia/runs/1umhvttk?apiKey=530a6b96a52d389faa7ce76e4b44825adc3e368d</a><br/>\n",
       "Find logs at: <code>.\\wandb\\run-20211122_001308-1umhvttk\\logs</code><br/>\n"
      ],
      "text/plain": [
       "<IPython.core.display.HTML object>"
      ]
     },
     "metadata": {},
     "output_type": "display_data"
    }
   ],
   "source": [
    "#wandb.init() va permettre d'enregistré les données dans une exécustion. \n",
    "# Les données seront synchronisé avec wandb.ai qui permet une visualisation des données et des reusltat \n",
    "\n",
    "run = wandb.init(project=\"Wikipedia\", \n",
    "                 anonymous=\"must\")\n",
    "artifact = run.use_artifact('dchanda/Wikipedia/Wiki-data:latest', type='dataset')\n",
    "artifact_dir = artifact.download()\n",
    "run.finish()\n",
    "\n",
    "for file in os.listdir(artifact_dir):\n",
    "    filepath = os.path.join(artifact_dir, file)\n",
    "    with open(filepath, \"rb\") as fp:\n",
    "        data = pickle.load(fp)\n",
    "        data= data[:500]"
   ]
  },
  {
   "cell_type": "code",
   "execution_count": 22,
   "id": "4375dff8",
   "metadata": {},
   "outputs": [
    {
     "name": "stdout",
     "output_type": "stream",
     "text": [
      "Number of training samples: 50\n",
      "Number of validation samples: 50\n"
     ]
    }
   ],
   "source": [
    "random.shuffle(data)\n",
    "\n",
    "train_data = data[:50]\n",
    "valid_data = data[450:]\n",
    "print(f\"Number of training samples: {len(train_data)}\")\n",
    "print(f\"Number of validation samples: {len(valid_data)}\")"
   ]
  },
  {
   "cell_type": "code",
   "execution_count": 28,
   "id": "4b8ad7fb",
   "metadata": {},
   "outputs": [],
   "source": [
    "# initialisation des classes data "
   ]
  },
  {
   "cell_type": "code",
   "execution_count": 42,
   "id": "b424b574",
   "metadata": {},
   "outputs": [],
   "source": [
    "class WikipediaDataset(Dataset):\n",
    "    def __init__(self, data, tokenizer, max_length, transforms=None):\n",
    "        self.data = data\n",
    "        self.max_len = max_length\n",
    "        self.tokenizer = tokenizer\n",
    "        self.transforms = transforms\n",
    "        \n",
    "    def __len__(self):\n",
    "        return len(self.data)\n",
    "    \n",
    "    def __getitem__(self, index):\n",
    "        image_bytes = base64.b64decode(self.data[index][\"b64_bytes\"])\n",
    "        img = np.asarray(Image.open(BytesIO(image_bytes)).convert(\"RGB\"))\n",
    "        caption = random.choice(self.data[index][\"caption_title_and_reference_description\"])\n",
    "        caption = caption.replace(\"[SEP]\", \"</s>\") # sep token for xlm-roberta\n",
    "        inputs = self.tokenizer.encode_plus(\n",
    "                caption,\n",
    "                truncation=True,\n",
    "                add_special_tokens=True,\n",
    "                max_length=self.max_len,\n",
    "                padding='max_length'\n",
    "            )\n",
    "        target = self.data[index]['target']\n",
    "        \n",
    "        ids = inputs['input_ids']\n",
    "        mask = inputs['attention_mask']\n",
    "        \n",
    "        if self.transforms:\n",
    "            img = self.transforms(image=img)[\"image\"]\n",
    "        \n",
    "        return {\n",
    "            'ids': torch.tensor(ids, dtype=torch.long),\n",
    "            'mask': torch.tensor(mask, dtype=torch.long),\n",
    "            'image': img,\n",
    "            'target': torch.tensor(target, dtype=torch.long)\n",
    "        }"
   ]
  },
  {
   "cell_type": "code",
   "execution_count": 43,
   "id": "3bf2e0bd",
   "metadata": {},
   "outputs": [],
   "source": [
    "data_transforms = {\n",
    "    \"train\": A.Compose([\n",
    "        A.Resize(CONFIG['img_size'], CONFIG['img_size']),\n",
    "        A.HorizontalFlip(p=0.5),\n",
    "        A.Normalize(\n",
    "                mean=[0.485, 0.456, 0.406], \n",
    "                std=[0.229, 0.224, 0.225], \n",
    "                max_pixel_value=255.0, \n",
    "                p=1.0\n",
    "            ),\n",
    "        ToTensorV2()], p=1.),\n",
    "    \n",
    "    \"valid\": A.Compose([\n",
    "        A.Resize(CONFIG['img_size'], CONFIG['img_size']),\n",
    "        A.Normalize(\n",
    "                mean=[0.485, 0.456, 0.406], \n",
    "                std=[0.229, 0.224, 0.225], \n",
    "                max_pixel_value=255.0, \n",
    "                p=1.0\n",
    "            ),\n",
    "        ToTensorV2()], p=1.)\n",
    "}"
   ]
  },
  {
   "cell_type": "code",
   "execution_count": 44,
   "id": "870b43c8",
   "metadata": {},
   "outputs": [],
   "source": [
    "train_dataset = WikipediaDataset(train_data, CONFIG[\"tokenizer\"], CONFIG[\"max_length\"], \n",
    "                                 transforms=data_transforms[\"train\"])\n",
    "train_loader = DataLoader(train_dataset, batch_size=CONFIG['train_batch_size'], \n",
    "                          num_workers=4, shuffle=True, pin_memory=True, drop_last=True)\n",
    "\n",
    "valid_dataset = WikipediaDataset(valid_data, CONFIG[\"tokenizer\"], CONFIG[\"max_length\"], \n",
    "                                 transforms=data_transforms[\"valid\"])\n",
    "valid_loader = DataLoader(valid_dataset, batch_size=CONFIG['valid_batch_size'], \n",
    "                          num_workers=4, shuffle=False, pin_memory=True)"
   ]
  },
  {
   "cell_type": "code",
   "execution_count": 57,
   "id": "71c8f7b0",
   "metadata": {},
   "outputs": [
    {
     "data": {
      "text/plain": [
       "{'ids': tensor([     0,  13177,   2647,     23,     56,   2179,      2, 151839,   4117,\n",
       "              2,      1,      1,      1,      1,      1,      1,      1,      1,\n",
       "              1,      1,      1,      1,      1,      1,      1,      1,      1,\n",
       "              1,      1,      1,      1,      1]),\n",
       " 'mask': tensor([1, 1, 1, 1, 1, 1, 1, 1, 1, 1, 0, 0, 0, 0, 0, 0, 0, 0, 0, 0, 0, 0, 0, 0,\n",
       "         0, 0, 0, 0, 0, 0, 0, 0]),\n",
       " 'image': tensor([[[1.4269, 1.4612, 1.5125,  ..., 1.6153, 1.5297, 1.4783],\n",
       "          [1.4612, 1.5125, 1.5810,  ..., 1.5982, 1.5639, 1.5125],\n",
       "          [1.5125, 1.5125, 1.5297,  ..., 1.6495, 1.5982, 1.5468],\n",
       "          ...,\n",
       "          [1.4269, 1.2728, 1.2214,  ..., 1.2557, 1.2557, 1.2214],\n",
       "          [1.4098, 1.2899, 1.2214,  ..., 1.2385, 1.2214, 1.1872],\n",
       "          [1.0844, 0.9474, 0.8789,  ..., 1.2043, 1.1872, 1.1358]],\n",
       " \n",
       "         [[1.3256, 1.3431, 1.3957,  ..., 1.5707, 1.5357, 1.4832],\n",
       "          [1.4482, 1.5007, 1.5707,  ..., 1.6057, 1.5707, 1.5532],\n",
       "          [1.5882, 1.5882, 1.6057,  ..., 1.6758, 1.6408, 1.5882],\n",
       "          ...,\n",
       "          [1.2556, 1.3081, 1.3431,  ..., 1.2906, 1.2381, 1.1856],\n",
       "          [1.2206, 1.2906, 1.3256,  ..., 1.1681, 1.1331, 1.1155],\n",
       "          [0.8704, 0.9230, 0.9755,  ..., 1.0630, 1.0980, 1.0980]],\n",
       " \n",
       "         [[1.3328, 1.3851, 1.4722,  ..., 1.5594, 1.4897, 1.4374],\n",
       "          [1.4548, 1.5420, 1.6291,  ..., 1.5768, 1.5245, 1.4897],\n",
       "          [1.5768, 1.6117, 1.6640,  ..., 1.6291, 1.5768, 1.5245],\n",
       "          ...,\n",
       "          [1.4722, 1.4548, 1.4548,  ..., 1.3328, 1.2980, 1.2457],\n",
       "          [1.4548, 1.4548, 1.4548,  ..., 1.2805, 1.2282, 1.1934],\n",
       "          [1.0191, 1.0191, 1.0191,  ..., 1.2282, 1.2108, 1.1759]]]),\n",
       " 'target': tensor(1)}"
      ]
     },
     "execution_count": 57,
     "metadata": {},
     "output_type": "execute_result"
    }
   ],
   "source": [
    "valid_dataset[1]"
   ]
  },
  {
   "cell_type": "code",
   "execution_count": 49,
   "id": "3efb33f2",
   "metadata": {},
   "outputs": [
    {
     "data": {
      "text/plain": [
       "{'ids': tensor([    0, 12982, 10821,  1596,     2, 95659, 12190,    13,     9,  7251,\n",
       "            86,     2,     1,     1,     1,     1,     1,     1,     1,     1,\n",
       "             1,     1,     1,     1,     1,     1,     1,     1,     1,     1,\n",
       "             1,     1]),\n",
       " 'mask': tensor([1, 1, 1, 1, 1, 1, 1, 1, 1, 1, 1, 1, 0, 0, 0, 0, 0, 0, 0, 0, 0, 0, 0, 0,\n",
       "         0, 0, 0, 0, 0, 0, 0, 0]),\n",
       " 'image': tensor([[[ 0.5193,  0.5536,  0.5707,  ...,  0.7591,  0.7419,  0.7248],\n",
       "          [ 0.5364,  0.5707,  0.5878,  ...,  0.7933,  0.7762,  0.7591],\n",
       "          [ 0.5536,  0.5878,  0.6049,  ...,  0.8104,  0.7933,  0.7762],\n",
       "          ...,\n",
       "          [-1.3130, -1.2788, -1.2788,  ..., -1.0390, -1.0390, -1.0390],\n",
       "          [-1.3130, -1.2788, -1.2788,  ..., -1.0562, -1.0562, -1.0562],\n",
       "          [-1.1932, -1.1932, -1.1760,  ..., -1.0733, -1.0390, -1.1247]],\n",
       " \n",
       "         [[ 1.2556,  1.2906,  1.3081,  ...,  1.5007,  1.4832,  1.4657],\n",
       "          [ 1.2731,  1.3081,  1.3256,  ...,  1.5357,  1.5182,  1.5007],\n",
       "          [ 1.2906,  1.3256,  1.3431,  ...,  1.5532,  1.5357,  1.5182],\n",
       "          ...,\n",
       "          [-0.9328, -0.9153, -0.9153,  ..., -0.7227, -0.7227, -0.7227],\n",
       "          [-0.9328, -0.9328, -0.9328,  ..., -0.7227, -0.7227, -0.7402],\n",
       "          [-0.9678, -0.9678, -0.9503,  ..., -0.7227, -0.6877, -0.7752]],\n",
       " \n",
       "         [[ 1.9603,  1.9951,  2.0125,  ...,  2.3263,  2.3088,  2.2914],\n",
       "          [ 1.9777,  2.0125,  2.0300,  ...,  2.3611,  2.3437,  2.3263],\n",
       "          [ 1.9951,  2.0300,  2.0474,  ...,  2.3786,  2.3611,  2.3437],\n",
       "          ...,\n",
       "          [-0.6193, -0.6018, -0.6018,  ..., -0.2707, -0.2881, -0.2881],\n",
       "          [-0.6367, -0.6193, -0.6193,  ..., -0.2881, -0.2881, -0.2881],\n",
       "          [-0.6018, -0.6367, -0.6193,  ..., -0.2707, -0.2358, -0.3230]]]),\n",
       " 'target': tensor(1)}"
      ]
     },
     "execution_count": 49,
     "metadata": {},
     "output_type": "execute_result"
    }
   ],
   "source": [
    "train_dataset[2]"
   ]
  },
  {
   "cell_type": "code",
   "execution_count": 32,
   "id": "ec9162e7",
   "metadata": {},
   "outputs": [],
   "source": [
    "                                           #Creation du modèle "
   ]
  },
  {
   "cell_type": "code",
   "execution_count": 29,
   "id": "88176a8d",
   "metadata": {},
   "outputs": [
    {
     "name": "stderr",
     "output_type": "stream",
     "text": [
      "Some weights of the model checkpoint at xlm-roberta-base were not used when initializing XLMRobertaModel: ['lm_head.bias', 'lm_head.dense.weight', 'lm_head.layer_norm.bias', 'lm_head.decoder.weight', 'lm_head.dense.bias', 'lm_head.layer_norm.weight']\n",
      "- This IS expected if you are initializing XLMRobertaModel from the checkpoint of a model trained on another task or with another architecture (e.g. initializing a BertForSequenceClassification model from a BertForPreTraining model).\n",
      "- This IS NOT expected if you are initializing XLMRobertaModel from the checkpoint of a model that you expect to be exactly identical (initializing a BertForSequenceClassification model from a BertForSequenceClassification model).\n"
     ]
    }
   ],
   "source": [
    "class WikipediaModel(nn.Module):\n",
    "    def __init__(self, image_model, text_model, embedding_size):\n",
    "        super(WikipediaModel, self).__init__()\n",
    "        self.image_model = timm.create_model(image_model, pretrained=True)\n",
    "        self.n_features = self.image_model.classifier.in_features\n",
    "        self.image_model.reset_classifier(0)\n",
    "        self.image_drop = nn.Dropout(p=0.2)\n",
    "        self.image_fc = nn.Linear(self.n_features, embedding_size)\n",
    "        \n",
    "        self.text_model = AutoModel.from_pretrained(text_model)\n",
    "        self.text_drop = nn.Dropout(p=0.2)\n",
    "        self.text_fc = nn.Linear(768, embedding_size)\n",
    "        \n",
    "        self.freeze_backbone()\n",
    "        \n",
    "    def forward(self, images, ids, mask):\n",
    "        image_features = self.image_model(images)\n",
    "        image_embeddings = self.image_fc(self.image_drop(image_features))\n",
    "        \n",
    "        out = self.text_model(input_ids=ids,attention_mask=mask,\n",
    "                              output_hidden_states=False)\n",
    "        out = self.text_drop(out[1])\n",
    "        text_embeddings = self.text_fc(out)\n",
    "\n",
    "        return image_embeddings, text_embeddings\n",
    "    \n",
    "    def freeze_backbone(self):\n",
    "        for params in self.image_model.parameters():\n",
    "            params.requires_grad = False\n",
    "        # Only finetune final layer\n",
    "        self.image_fc.weight.requires_grad = True\n",
    "        self.image_fc.bias.requires_grad = True\n",
    "        \n",
    "        for params in self.text_model.parameters():\n",
    "            params.requires_grad = False\n",
    "        # Only finetune final layer\n",
    "        self.text_fc.weight.requires_grad = True\n",
    "        self.text_fc.bias.requires_grad = True\n",
    "    \n",
    "\n",
    "model = WikipediaModel(CONFIG['image_model_name'], CONFIG['text_model_name'], CONFIG['embedding_size'])\n",
    "model.to(CONFIG['device']);"
   ]
  },
  {
   "cell_type": "code",
   "execution_count": 34,
   "id": "ad6ece2d",
   "metadata": {},
   "outputs": [],
   "source": [
    "                                         #Fonction de pertes "
   ]
  },
  {
   "cell_type": "code",
   "execution_count": 30,
   "id": "070bc372",
   "metadata": {},
   "outputs": [],
   "source": [
    "def criterion(outputs1, outputs2, targets):\n",
    "    return nn.CosineEmbeddingLoss()(outputs1, outputs2, targets)"
   ]
  },
  {
   "cell_type": "code",
   "execution_count": 36,
   "id": "426a025c",
   "metadata": {},
   "outputs": [],
   "source": [
    "                                       #Fonction d'netrainement "
   ]
  },
  {
   "cell_type": "code",
   "execution_count": 31,
   "id": "267018c1",
   "metadata": {},
   "outputs": [],
   "source": [
    "def train_one_epoch(model, optimizer, scheduler, dataloader, device, epoch):\n",
    "    model.train()\n",
    "    \n",
    "    dataset_size = 0\n",
    "    running_loss = 0.0\n",
    "    \n",
    "    bar = tqdm(enumerate(dataloader), total=len(dataloader))\n",
    "    for step, data in bar:\n",
    "        ids = data['ids'].to(device, dtype = torch.long)\n",
    "        mask = data['mask'].to(device, dtype = torch.long)\n",
    "        images = data['image'].to(device, dtype=torch.float)\n",
    "        targets = data['target'].to(device, dtype=torch.long)\n",
    "        \n",
    "        batch_size = ids.size(0)\n",
    "\n",
    "        image_outputs, text_outputs = model(images, ids, mask)\n",
    "        loss = criterion(image_outputs, text_outputs, targets)\n",
    "        loss = loss / CONFIG['n_accumulate']\n",
    "        loss.backward()\n",
    "    \n",
    "        if (step + 1) % CONFIG['n_accumulate'] == 0:\n",
    "            optimizer.step()\n",
    "\n",
    "            # zero the parameter gradients\n",
    "            optimizer.zero_grad()\n",
    "\n",
    "            if scheduler is not None:\n",
    "                scheduler.step()\n",
    "                \n",
    "        running_loss += (loss.item() * batch_size)\n",
    "        dataset_size += batch_size\n",
    "        \n",
    "        epoch_loss = running_loss / dataset_size\n",
    "        \n",
    "        bar.set_postfix(Epoch=epoch, Train_Loss=epoch_loss,\n",
    "                        LR=optimizer.param_groups[0]['lr'])\n",
    "    gc.collect()\n",
    "    \n",
    "    return epoch_loss"
   ]
  },
  {
   "cell_type": "code",
   "execution_count": 38,
   "id": "a3e829f1",
   "metadata": {},
   "outputs": [],
   "source": [
    "                                         #Fonction de validation "
   ]
  },
  {
   "cell_type": "code",
   "execution_count": 32,
   "id": "5865303f",
   "metadata": {},
   "outputs": [],
   "source": [
    "@torch.no_grad()\n",
    "def valid_one_epoch(model, dataloader, device, epoch):\n",
    "    model.eval()\n",
    "    \n",
    "    dataset_size = 0\n",
    "    running_loss = 0.0\n",
    "    \n",
    "    bar = tqdm(enumerate(dataloader), total=len(dataloader))\n",
    "    for step, data in bar:        \n",
    "        ids = data['ids'].to(device, dtype = torch.long)\n",
    "        mask = data['mask'].to(device, dtype = torch.long)\n",
    "        images = data['image'].to(device, dtype=torch.float)\n",
    "        targets = data['target'].to(device, dtype=torch.long)\n",
    "        \n",
    "        batch_size = ids.size(0)\n",
    "        \n",
    "        image_outputs, text_outputs = model(images, ids, mask)\n",
    "        loss = criterion(image_outputs, text_outputs, targets)\n",
    "        \n",
    "        running_loss += (loss.item() * batch_size)\n",
    "        dataset_size += batch_size\n",
    "        \n",
    "        epoch_loss = running_loss / dataset_size\n",
    "        \n",
    "        bar.set_postfix(Epoch=epoch, Valid_Loss=epoch_loss,\n",
    "                        LR=optimizer.param_groups[0]['lr'])   \n",
    "    \n",
    "    gc.collect()\n",
    "    \n",
    "    return epoch_loss"
   ]
  },
  {
   "cell_type": "code",
   "execution_count": 40,
   "id": "b130b238",
   "metadata": {},
   "outputs": [],
   "source": [
    "                                            #Entrainement "
   ]
  },
  {
   "cell_type": "code",
   "execution_count": 33,
   "id": "8ba10acc",
   "metadata": {},
   "outputs": [],
   "source": [
    "def run_training(model, optimizer, scheduler, device, num_epochs):\n",
    "    # To automatically log gradients\n",
    "    wandb.watch(model, log_freq=100)\n",
    "    \n",
    "    if torch.cuda.is_available():\n",
    "        print(\"[INFO] Using GPU: {}\\n\".format(torch.cuda.get_device_name()))\n",
    "    \n",
    "    start = time.time()\n",
    "    best_model_wts = copy.deepcopy(model.state_dict())\n",
    "    best_epoch_loss = np.inf\n",
    "    history = defaultdict(list)\n",
    "    \n",
    "    for epoch in range(1, num_epochs + 1): \n",
    "        gc.collect()\n",
    "        train_epoch_loss = train_one_epoch(model, optimizer, scheduler, \n",
    "                                           dataloader=train_loader, \n",
    "                                           device=CONFIG['device'], epoch=epoch)\n",
    "        \n",
    "        val_epoch_loss = valid_one_epoch(model, valid_loader, device=CONFIG['device'], \n",
    "                                         epoch=epoch)\n",
    "    \n",
    "        history['Train Loss'].append(train_epoch_loss)\n",
    "        history['Valid Loss'].append(val_epoch_loss)\n",
    "        \n",
    "        # Log the metrics\n",
    "        wandb.log({\"Train Loss\": train_epoch_loss})\n",
    "        wandb.log({\"Valid Loss\": val_epoch_loss})\n",
    "        \n",
    "        # deep copy the model\n",
    "        if val_epoch_loss <= best_epoch_loss:\n",
    "            print(f\"{b_}Validation Loss Improved ({best_epoch_loss} ---> {val_epoch_loss})\")\n",
    "            best_epoch_loss = val_epoch_loss\n",
    "            run.summary[\"Best Loss\"] = best_epoch_loss\n",
    "            best_model_wts = copy.deepcopy(model.state_dict())\n",
    "            PATH = \"Loss{:.4f}_epoch{:.0f}.bin\".format(best_epoch_loss, epoch)\n",
    "            torch.save(model.state_dict(), PATH)\n",
    "            # Save a model file from the current directory\n",
    "            print(f\"Model Saved{sr_}\")\n",
    "            \n",
    "        print()\n",
    "    \n",
    "    end = time.time()\n",
    "    time_elapsed = end - start\n",
    "    print('Training complete in {:.0f}h {:.0f}m {:.0f}s'.format(\n",
    "        time_elapsed // 3600, (time_elapsed % 3600) // 60, (time_elapsed % 3600) % 60))\n",
    "    print(\"Best Loss: {:.4f}\".format(best_epoch_loss))\n",
    "    \n",
    "    # load best model weights\n",
    "    model.load_state_dict(best_model_wts)\n",
    "    \n",
    "    return model, history"
   ]
  },
  {
   "cell_type": "code",
   "execution_count": 34,
   "id": "6c02caf9",
   "metadata": {},
   "outputs": [],
   "source": [
    "def fetch_scheduler(optimizer):\n",
    "    if CONFIG['scheduler'] == 'CosineAnnealingLR':\n",
    "        scheduler = lr_scheduler.CosineAnnealingLR(optimizer,T_max=CONFIG['T_max'], \n",
    "                                                   eta_min=CONFIG['min_lr'])\n",
    "    elif CONFIG['scheduler'] == 'CosineAnnealingWarmRestarts':\n",
    "        scheduler = lr_scheduler.CosineAnnealingWarmRestarts(optimizer,T_0=CONFIG['T_0'], \n",
    "                                                             eta_min=CONFIG['min_lr'])\n",
    "    elif CONFIG['scheduler'] == None:\n",
    "        return None\n",
    "        \n",
    "    return scheduler"
   ]
  },
  {
   "cell_type": "code",
   "execution_count": 35,
   "id": "42c0a650",
   "metadata": {},
   "outputs": [],
   "source": [
    "optimizer = optim.Adam(model.parameters(), lr=CONFIG['learning_rate'], \n",
    "                       weight_decay=CONFIG['weight_decay'])\n",
    "scheduler = fetch_scheduler(optimizer)"
   ]
  },
  {
   "cell_type": "code",
   "execution_count": 36,
   "id": "d4a90314",
   "metadata": {
    "scrolled": true
   },
   "outputs": [
    {
     "data": {
      "text/html": [
       "\n",
       "                    Syncing run <strong><a href=\"https://wandb.ai/anony-mouse-158971/Wikipedia/runs/p4vfxhjr?apiKey=530a6b96a52d389faa7ce76e4b44825adc3e368d\" target=\"_blank\">resilient-monkey-26</a></strong> to <a href=\"https://wandb.ai/anony-mouse-158971/Wikipedia?apiKey=530a6b96a52d389faa7ce76e4b44825adc3e368d\" target=\"_blank\">Weights & Biases</a> (<a href=\"https://docs.wandb.com/integrations/jupyter.html\" target=\"_blank\">docs</a>).<br/>\n",
       "\n",
       "                "
      ],
      "text/plain": [
       "<IPython.core.display.HTML object>"
      ]
     },
     "metadata": {},
     "output_type": "display_data"
    }
   ],
   "source": [
    "run = wandb.init(project='Wikipedia', \n",
    "                 config=CONFIG,\n",
    "                 job_type='Train',\n",
    "                 anonymous='must')"
   ]
  },
  {
   "cell_type": "code",
   "execution_count": 37,
   "id": "b4c47c26",
   "metadata": {},
   "outputs": [],
   "source": [
    "from tqdm.auto import tqdm\n",
    "tqdm.pandas()"
   ]
  },
  {
   "cell_type": "code",
   "execution_count": null,
   "id": "88d0612f",
   "metadata": {},
   "outputs": [],
   "source": [
    "\n",
    "model, history = run_training(model, optimizer, scheduler, \n",
    "                              device=CONFIG['device'],\n",
    "                              num_epochs=CONFIG['epochs'])\n",
    "\n"
   ]
  },
  {
   "cell_type": "code",
   "execution_count": null,
   "id": "0168fe19",
   "metadata": {},
   "outputs": [],
   "source": [
    "run.finish()"
   ]
  }
 ],
 "metadata": {
  "kernelspec": {
   "display_name": "Python 3",
   "language": "python",
   "name": "python3"
  },
  "language_info": {
   "codemirror_mode": {
    "name": "ipython",
    "version": 3
   },
   "file_extension": ".py",
   "mimetype": "text/x-python",
   "name": "python",
   "nbconvert_exporter": "python",
   "pygments_lexer": "ipython3",
   "version": "3.8.8"
  }
 },
 "nbformat": 4,
 "nbformat_minor": 5
}
